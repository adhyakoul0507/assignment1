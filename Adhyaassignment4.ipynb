{
  "nbformat": 4,
  "nbformat_minor": 0,
  "metadata": {
    "colab": {
      "provenance": []
    },
    "kernelspec": {
      "name": "python3",
      "display_name": "Python 3"
    },
    "language_info": {
      "name": "python"
    }
  },
  "cells": [
    {
      "cell_type": "code",
      "execution_count": null,
      "metadata": {
        "colab": {
          "base_uri": "https://localhost:8080/"
        },
        "id": "imiNIiJWUrVc",
        "outputId": "b5ccf20e-1a45-4848-eaae-10865d86afe3"
      },
      "outputs": [
        {
          "output_type": "stream",
          "name": "stdout",
          "text": [
            "[ 3  7  9 11 13  5]\n"
          ]
        }
      ],
      "source": [
        "import numpy as np\n",
        "\n",
        "arr1=np.array([0,1,2,3,4,5])\n",
        "arr2=np.array([3,6,7,8,9,0])\n",
        "result= arr1+arr2\n",
        "print(result)"
      ]
    },
    {
      "cell_type": "code",
      "source": [
        "import numpy as np\n",
        "\n",
        "arr1=np.array([0,1,2,3,4,5])\n",
        "\n",
        "result= arr1*3\n",
        "print(result)"
      ],
      "metadata": {
        "colab": {
          "base_uri": "https://localhost:8080/"
        },
        "id": "30ywoXGeVDoP",
        "outputId": "24c0b8a4-a268-4d4a-f041-6423b30e50c3"
      },
      "execution_count": 1,
      "outputs": [
        {
          "output_type": "stream",
          "name": "stdout",
          "text": [
            "[ 0  3  6  9 12 15]\n"
          ]
        }
      ]
    },
    {
      "cell_type": "code",
      "source": [
        "import numpy as np\n",
        "\n",
        "arr1=np.array([0,1,2,3,4,5])\n",
        "result=arr1/2\n",
        "print(result)"
      ],
      "metadata": {
        "colab": {
          "base_uri": "https://localhost:8080/"
        },
        "id": "tcPR0U1DVPKt",
        "outputId": "f48763da-5252-43e5-a198-594caa1fb5b5"
      },
      "execution_count": null,
      "outputs": [
        {
          "output_type": "stream",
          "name": "stdout",
          "text": [
            "[0.  0.5 1.  1.5 2.  2.5]\n"
          ]
        }
      ]
    },
    {
      "cell_type": "code",
      "source": [
        "import numpy as np\n",
        "\n",
        "arr1=np.array([0,1,2,3,4,5])\n",
        "\n",
        "reversed_array =np.flip(arr1)\n",
        "print(reversed_array)\n"
      ],
      "metadata": {
        "colab": {
          "base_uri": "https://localhost:8080/"
        },
        "id": "TI5pfsJpVbY0",
        "outputId": "26093829-94a5-43fa-b258-b939772dcf7a"
      },
      "execution_count": null,
      "outputs": [
        {
          "output_type": "stream",
          "name": "stdout",
          "text": [
            "[5 4 3 2 1 0]\n"
          ]
        }
      ]
    },
    {
      "cell_type": "code",
      "source": [
        "import numpy as np\n",
        "\n",
        "x = np.array([1, 2, 3, 4, 5, 1, 2, 1, 1, 1])\n",
        "\n",
        "\n",
        "unique, counts = np.unique(x, return_counts=True)\n",
        "most_frequent_value = unique[np.argmax(counts)]\n",
        "indices = np.where(x == most_frequent_value)[0]\n",
        "\n",
        "print(\"Most Frequent Value in x:\", most_frequent_value)\n",
        "print(\"Indices of Most Frequent Value in x:\", indices)"
      ],
      "metadata": {
        "id": "90HqKiqpWIXG",
        "colab": {
          "base_uri": "https://localhost:8080/"
        },
        "outputId": "39743627-3a8a-436f-9056-a15ecc5e9163"
      },
      "execution_count": 4,
      "outputs": [
        {
          "output_type": "stream",
          "name": "stdout",
          "text": [
            "Most Frequent Value in x: 1\n",
            "Indices of Most Frequent Value in x: [0 5 7 8 9]\n"
          ]
        }
      ]
    },
    {
      "cell_type": "code",
      "source": [
        "import numpy as np\n",
        "\n",
        "y = np.array([1, 1, 1, 2, 3, 4, 2, 4, 3, 3])\n",
        "\n",
        "\n",
        "unique, counts = np.unique(y, return_counts=True)\n",
        "most_frequent_value = unique[np.argmax(counts)]\n",
        "indices = np.where(y == most_frequent_value)[0]\n",
        "\n",
        "print(\"Most Frequent Value in y:\", most_frequent_value)\n",
        "print(\"Indices of Most Frequent Value in y:\", indices)"
      ],
      "metadata": {
        "colab": {
          "base_uri": "https://localhost:8080/"
        },
        "id": "UCvdHRK6xug1",
        "outputId": "e9af7502-8aef-4a70-e68c-88ff42061b7c"
      },
      "execution_count": 3,
      "outputs": [
        {
          "output_type": "stream",
          "name": "stdout",
          "text": [
            "Most Frequent Value in y: 1\n",
            "Indices of Most Frequent Value in y: [0 1 2]\n"
          ]
        }
      ]
    },
    {
      "cell_type": "code",
      "source": [],
      "metadata": {
        "id": "5KPjwWpMcRFU"
      },
      "execution_count": null,
      "outputs": []
    },
    {
      "cell_type": "code",
      "source": [
        "import numpy as np\n",
        "arr = np.array([[10,20,30],[40,50,60],[70,80,90]])\n",
        "print(arr[0][1])\n",
        "\n",
        "print(arr[2][0])"
      ],
      "metadata": {
        "colab": {
          "base_uri": "https://localhost:8080/"
        },
        "id": "NfZeslMlZJum",
        "outputId": "029fc79f-5816-4fff-896a-6d6b59faf6a8"
      },
      "execution_count": 2,
      "outputs": [
        {
          "output_type": "stream",
          "name": "stdout",
          "text": [
            "20\n",
            "70\n"
          ]
        }
      ]
    },
    {
      "cell_type": "code",
      "source": [
        "import numpy as np\n",
        "\n",
        "\n",
        "Adhya = np.linspace(10, 100, 25)\n",
        "\n",
        "\n",
        "print(\"Array:\", Adhya)\n",
        "print(\"Dimensions:\", Adhya.ndim)\n",
        "print(\"Shape:\", Adhya.shape)\n",
        "print(\"Total elements:\", Adhya.size)\n",
        "print(\"Data type:\", Adhya.dtype)\n",
        "print(\"Total bytes consumed:\", Adhya.nbytes)\n",
        "\n",
        "\n",
        "transposed_array = Adhya.reshape(25, 1)\n",
        "print(\"Transposed Array using reshape:\\n\", transposed_array)\n",
        "\n",
        "\n",
        "try:\n",
        "    print(\"Transposed Array using .T:\\n\", Adhya.T)\n",
        "except Exception as e:\n",
        "    print(\"Error using .T:\", e)"
      ],
      "metadata": {
        "colab": {
          "base_uri": "https://localhost:8080/"
        },
        "id": "T4Jd2siPdK29",
        "outputId": "2908e3d5-2238-473c-b7ff-b355274d8a12"
      },
      "execution_count": 5,
      "outputs": [
        {
          "output_type": "stream",
          "name": "stdout",
          "text": [
            "Array: [ 10.    13.75  17.5   21.25  25.    28.75  32.5   36.25  40.    43.75\n",
            "  47.5   51.25  55.    58.75  62.5   66.25  70.    73.75  77.5   81.25\n",
            "  85.    88.75  92.5   96.25 100.  ]\n",
            "Dimensions: 1\n",
            "Shape: (25,)\n",
            "Total elements: 25\n",
            "Data type: float64\n",
            "Total bytes consumed: 200\n",
            "Transposed Array using reshape:\n",
            " [[ 10.  ]\n",
            " [ 13.75]\n",
            " [ 17.5 ]\n",
            " [ 21.25]\n",
            " [ 25.  ]\n",
            " [ 28.75]\n",
            " [ 32.5 ]\n",
            " [ 36.25]\n",
            " [ 40.  ]\n",
            " [ 43.75]\n",
            " [ 47.5 ]\n",
            " [ 51.25]\n",
            " [ 55.  ]\n",
            " [ 58.75]\n",
            " [ 62.5 ]\n",
            " [ 66.25]\n",
            " [ 70.  ]\n",
            " [ 73.75]\n",
            " [ 77.5 ]\n",
            " [ 81.25]\n",
            " [ 85.  ]\n",
            " [ 88.75]\n",
            " [ 92.5 ]\n",
            " [ 96.25]\n",
            " [100.  ]]\n",
            "Transposed Array using .T:\n",
            " [ 10.    13.75  17.5   21.25  25.    28.75  32.5   36.25  40.    43.75\n",
            "  47.5   51.25  55.    58.75  62.5   66.25  70.    73.75  77.5   81.25\n",
            "  85.    88.75  92.5   96.25 100.  ]\n"
          ]
        }
      ]
    },
    {
      "cell_type": "code",
      "source": [
        "import numpy as np\n",
        "\n",
        "\n",
        "ucs420_Adhya = np.array([\n",
        "    [10, 20, 30, 40],\n",
        "    [50, 60, 70, 80],\n",
        "    [90, 15, 20, 35]\n",
        "])\n",
        "\n",
        "\n",
        "print(\"Mean:\", np.mean(ucs420_Adhya))\n",
        "print(\"Median:\", np.median(ucs420_Adhya))\n",
        "print(\"Max:\", np.max(ucs420_Adhya))\n",
        "print(\"Min:\", np.min(ucs420_Adhya))\n",
        "print(\"Unique Elements:\", np.unique(ucs420_Adhya))\n",
        "\n",
        "\n",
        "reshaped_ucs420_Adhya = ucs420_Adhya.reshape(4, 3)\n",
        "print(\"Reshaped Array (4x3):\\n\", reshaped_ucs420_Adhya)\n",
        "\n",
        "\n",
        "resized_ucs420_Adhya = np.resize(ucs420_Adhya, (2, 3))\n",
        "print(\"Resized Array (2x3):\\n\", resized_ucs420_Adhya)"
      ],
      "metadata": {
        "colab": {
          "base_uri": "https://localhost:8080/"
        },
        "id": "iOnu0lIJgfp-",
        "outputId": "66dcd963-8a0c-4f1f-afce-f183ccd24c70"
      },
      "execution_count": 6,
      "outputs": [
        {
          "output_type": "stream",
          "name": "stdout",
          "text": [
            "Mean: 43.333333333333336\n",
            "Median: 37.5\n",
            "Max: 90\n",
            "Min: 10\n",
            "Unique Elements: [10 15 20 30 35 40 50 60 70 80 90]\n",
            "Reshaped Array (4x3):\n",
            " [[10 20 30]\n",
            " [40 50 60]\n",
            " [70 80 90]\n",
            " [15 20 35]]\n",
            "Resized Array (2x3):\n",
            " [[10 20 30]\n",
            " [40 50 60]]\n"
          ]
        }
      ]
    }
  ]
}