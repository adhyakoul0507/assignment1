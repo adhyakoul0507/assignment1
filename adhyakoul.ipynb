{
  "nbformat": 4,
  "nbformat_minor": 0,
  "metadata": {
    "colab": {
      "provenance": []
    },
    "kernelspec": {
      "name": "python3",
      "display_name": "Python 3"
    },
    "language_info": {
      "name": "python"
    }
  },
  "cells": [
    {
      "cell_type": "markdown",
      "source": [
        "Assignment 1.1: WAP to print your name three times"
      ],
      "metadata": {
        "id": "AMvh4CiFfFx6"
      }
    },
    {
      "cell_type": "code",
      "source": [
        "name = \"Adhya\"\n",
        "for _ in range(3):\n",
        "    print(name)\n"
      ],
      "metadata": {
        "id": "1glaU1G3fGeO"
      },
      "execution_count": null,
      "outputs": []
    },
    {
      "cell_type": "markdown",
      "source": [
        "Assignment 2.1: WAP to add three numbers and print the result"
      ],
      "metadata": {
        "id": "vX7q2mKEfKSP"
      }
    },
    {
      "cell_type": "code",
      "source": [
        "num1 = int(input(\"Enter first number: \"))\n",
        "num2 = int(input(\"Enter second number: \"))\n",
        "num3 = int(input(\"Enter third number: \"))\n",
        "result = num1 + num2 + num3\n",
        "print(\"The sum of the numbers is:\", result)\n"
      ],
      "metadata": {
        "colab": {
          "base_uri": "https://localhost:8080/"
        },
        "collapsed": true,
        "id": "OtG-LCfzfOtR",
        "outputId": "9900ae48-41bf-47fb-8832-ee111a942b46"
      },
      "execution_count": 7,
      "outputs": [
        {
          "output_type": "stream",
          "name": "stdout",
          "text": [
            "Enter first number: 1\n",
            "Enter second number: 2\n",
            "Enter third number: 3\n",
            "The sum of the numbers is: 6\n"
          ]
        }
      ]
    },
    {
      "cell_type": "markdown",
      "source": [
        "Assignment 2.2: WAP to concatenate three strings and print the result\n"
      ],
      "metadata": {
        "id": "xDK_q9IIfTdb"
      }
    },
    {
      "cell_type": "code",
      "source": [
        "str1 = input(\"Enter first string: \")\n",
        "str2 = input(\"Enter second string: \")\n",
        "str3 = input(\"Enter third string: \")\n",
        "result = str1 + str2 + str3\n",
        "print(\"The concatenated string is:\", result)\n"
      ],
      "metadata": {
        "colab": {
          "base_uri": "https://localhost:8080/"
        },
        "id": "nQtDLM3QfUKw",
        "outputId": "f6f38315-eb72-429d-9e8b-09789b60db55"
      },
      "execution_count": 5,
      "outputs": [
        {
          "output_type": "stream",
          "name": "stdout",
          "text": [
            "Enter first string: adhya\n",
            "Enter second string: koul\n",
            "Enter third string: yayy\n",
            "The concatenated string is: adhyakoulyayy\n"
          ]
        }
      ]
    },
    {
      "cell_type": "code",
      "source": [
        "\n",
        "\n",
        "print(\"Table of 7:\")\n",
        "for i in range(1, 11):\n",
        "    print(f\"7 x {i} = {7 * i}\")\n",
        "\n",
        "print(\"Table of 9:\")\n",
        "for i in range(1, 11):\n",
        "    print(f\"9 x {i} = {9 * i}\")\n",
        "\n"
      ],
      "metadata": {
        "colab": {
          "base_uri": "https://localhost:8080/"
        },
        "id": "hqTGeyxefY10",
        "outputId": "5233e19a-c535-482d-9855-69b7e6e21477"
      },
      "execution_count": 4,
      "outputs": [
        {
          "output_type": "stream",
          "name": "stdout",
          "text": [
            "Table of 7:\n",
            "7 x 1 = 7\n",
            "7 x 2 = 14\n",
            "7 x 3 = 21\n",
            "7 x 4 = 28\n",
            "7 x 5 = 35\n",
            "7 x 6 = 42\n",
            "7 x 7 = 49\n",
            "7 x 8 = 56\n",
            "7 x 9 = 63\n",
            "7 x 10 = 70\n",
            "Table of 9:\n",
            "9 x 1 = 9\n",
            "9 x 2 = 18\n",
            "9 x 3 = 27\n",
            "9 x 4 = 36\n",
            "9 x 5 = 45\n",
            "9 x 6 = 54\n",
            "9 x 7 = 63\n",
            "9 x 8 = 72\n",
            "9 x 9 = 81\n",
            "9 x 10 = 90\n"
          ]
        }
      ]
    },
    {
      "cell_type": "markdown",
      "source": [
        "Assignment 4.2: WAP to print the table of n (n is given by the user)\n"
      ],
      "metadata": {
        "id": "AVrKfcIifpB4"
      }
    },
    {
      "cell_type": "code",
      "source": [
        "3\n",
        "n = int(input(\"Enter the number for the table: \"))\n",
        "for i in range(1, 11):\n",
        "    print(f\"{n} x {i} = {n * i}\")\n"
      ],
      "metadata": {
        "colab": {
          "base_uri": "https://localhost:8080/"
        },
        "id": "PAnuK-0TfuTx",
        "outputId": "e7775abd-c6f2-46a4-cd1b-5908db36e204"
      },
      "execution_count": 6,
      "outputs": [
        {
          "output_type": "stream",
          "name": "stdout",
          "text": [
            "Enter the number for the table: 3\n",
            "3 x 1 = 3\n",
            "3 x 2 = 6\n",
            "3 x 3 = 9\n",
            "3 x 4 = 12\n",
            "3 x 5 = 15\n",
            "3 x 6 = 18\n",
            "3 x 7 = 21\n",
            "3 x 8 = 24\n",
            "3 x 9 = 27\n",
            "3 x 10 = 30\n"
          ]
        }
      ]
    },
    {
      "cell_type": "markdown",
      "source": [
        "Assignment 4.3: WAP to add all numbers from 1 to n (n is given by the user)\n"
      ],
      "metadata": {
        "id": "USE5hajqfw41"
      }
    },
    {
      "cell_type": "code",
      "source": [
        "n = int(input(\"Enter the value of n: \"))\n",
        "result = sum(range(1, n + 1))\n",
        "print(\"The sum of numbers from 1 to\", n, \"is:\", result)\n"
      ],
      "metadata": {
        "colab": {
          "base_uri": "https://localhost:8080/"
        },
        "id": "8I5AAvACfy8u",
        "outputId": "f7d797b5-5689-49c3-8526-1b94ef1e27f0"
      },
      "execution_count": 8,
      "outputs": [
        {
          "output_type": "stream",
          "name": "stdout",
          "text": [
            "Enter the value of n: 4\n",
            "The sum of numbers from 1 to 4 is: 10\n"
          ]
        }
      ]
    },
    {
      "cell_type": "markdown",
      "source": [
        "Assignment 5.1: WAP to find max among three numbers using max() function\n",
        "\n"
      ],
      "metadata": {
        "id": "z3CKcGoSf14l"
      }
    },
    {
      "cell_type": "code",
      "source": [
        "num1 = int(input(\"Enter first number: \"))\n",
        "num2 = int(input(\"Enter second number: \"))\n",
        "num3 = int(input(\"Enter third number: \"))\n",
        "maximum = max(num1, num2, num3)\n",
        "print(\"The maximum number is:\", maximum)\n"
      ],
      "metadata": {
        "colab": {
          "base_uri": "https://localhost:8080/"
        },
        "id": "8NpBLd3if4C9",
        "outputId": "dafbd223-61ae-4054-8c0e-28c7719b2f19"
      },
      "execution_count": 9,
      "outputs": [
        {
          "output_type": "stream",
          "name": "stdout",
          "text": [
            "Enter first number: 2\n",
            "Enter second number: 4\n",
            "Enter third number: 5\n",
            "The maximum number is: 5\n"
          ]
        }
      ]
    },
    {
      "cell_type": "markdown",
      "source": [
        "Assignment 5.2: WAP to add all numbers divisible by 7 and 9 from 1 to n\n"
      ],
      "metadata": {
        "id": "MAXrLi40f6Mp"
      }
    },
    {
      "cell_type": "code",
      "source": [
        "n = int(input(\"Enter the value of n: \"))\n",
        "result = sum(i for i in range(1, n + 1) if i % 7 == 0 and i % 9 == 0)\n",
        "print(\"The sum of numbers divisible by 7 and 9 from 1 to\", n, \"is:\", result)\n"
      ],
      "metadata": {
        "colab": {
          "base_uri": "https://localhost:8080/"
        },
        "id": "CGV11MN8f8Wm",
        "outputId": "1946db7a-699d-4bbd-8785-cca390c2b6b1"
      },
      "execution_count": 10,
      "outputs": [
        {
          "output_type": "stream",
          "name": "stdout",
          "text": [
            "Enter the value of n: 4\n",
            "The sum of numbers divisible by 7 and 9 from 1 to 4 is: 0\n"
          ]
        }
      ]
    },
    {
      "cell_type": "markdown",
      "source": [
        "Assignment 5.3: WAP to add all prime numbers from 1 to n\n"
      ],
      "metadata": {
        "id": "p3jVv8agf-IT"
      }
    },
    {
      "cell_type": "code",
      "source": [
        "def is_prime(num):\n",
        "    if num < 2:\n",
        "        return False\n",
        "    for i in range(2, int(num**0.5) + 1):\n",
        "        if num % i == 0:\n",
        "            return False\n",
        "    return True\n",
        "\n",
        "n = int(input(\"Enter the value of n: \"))\n",
        "result = sum(i for i in range(1, n + 1) if is_prime(i))\n",
        "print(\"The sum is: \", n, \"is:\", result)\n"
      ],
      "metadata": {
        "id": "8leefYl0gCSb"
      },
      "execution_count": null,
      "outputs": []
    },
    {
      "cell_type": "markdown",
      "source": [
        "Assignment 6.1: WAP using a function that adds all odd numbers from 1 to n\n"
      ],
      "metadata": {
        "id": "OE3-5cRxgFsf"
      }
    },
    {
      "cell_type": "code",
      "source": [
        "def add_odd_numbers(n):\n",
        "    return sum(i for i in range(1, n + 1) if i % 2 != 0)\n",
        "\n",
        "n = int(input(\"Enter the value of n: \"))\n",
        "result = add_odd_numbers(n)\n",
        "print(\"the sum is\", n, \"is:\", result)\n"
      ],
      "metadata": {
        "id": "LpGYivx4gGWI"
      },
      "execution_count": null,
      "outputs": []
    },
    {
      "cell_type": "markdown",
      "source": [
        "Assignment 6.2: WAP using a function that adds all prime numbers from 1 to n\n"
      ],
      "metadata": {
        "id": "uS1Ucf4ygJku"
      }
    },
    {
      "cell_type": "code",
      "source": [
        "def is_prime(num):\n",
        "    if num < 2:\n",
        "        return False\n",
        "    for i in range(2, int(num**0.5) + 1):\n",
        "        if num % i == 0:\n",
        "            return False\n",
        "    return True\n",
        "\n",
        "def add_prime_numbers(n):\n",
        "    return sum(i for i in range(1, n + 1) if is_prime(i))\n",
        "\n",
        "n = int(input(\"Enter the value of n: \"))\n",
        "result = add_prime_numbers(n)\n",
        "print(\"The sum\", n, \"is:\", result)\n"
      ],
      "metadata": {
        "id": "qQkzVDAWgKE9"
      },
      "execution_count": null,
      "outputs": []
    }
  ]
}